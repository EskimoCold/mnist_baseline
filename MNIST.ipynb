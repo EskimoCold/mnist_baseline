{
  "nbformat": 4,
  "nbformat_minor": 0,
  "metadata": {
    "colab": {
      "name": "MNIST.ipynb",
      "provenance": [],
      "collapsed_sections": []
    },
    "kernelspec": {
      "name": "python3",
      "display_name": "Python 3"
    },
    "language_info": {
      "name": "python"
    },
    "accelerator": "GPU"
  },
  "cells": [
    {
      "cell_type": "code",
      "metadata": {
        "id": "NOhReMKfqlpV"
      },
      "source": [
        "from keras.datasets import mnist\n",
        "(X_train, y_train), (X_test, y_test) = mnist.load_data()"
      ],
      "execution_count": 142,
      "outputs": []
    },
    {
      "cell_type": "code",
      "metadata": {
        "colab": {
          "base_uri": "https://localhost:8080/"
        },
        "id": "cAwC4nzx3ZnX",
        "outputId": "a72653d1-53d7-49c8-b644-5480d264fb22"
      },
      "source": [
        "import numpy as np\n",
        "\n",
        "num_classes = 10\n",
        "input_shape = (28, 28, 1)\n",
        "\n",
        "X_train = X_train.astype(\"float32\") / 255.\n",
        "X_test = X_test.astype(\"float32\") / 255.\n",
        "\n",
        "X_train = np.expand_dims(X_train, -1)\n",
        "X_test = np.expand_dims(X_test, -1)\n",
        "print(\"X_train shape:\", X_train.shape)\n",
        "print(X_train.shape[0], \"train samples\")\n",
        "print(X_test.shape[0], \"test samples\")\n",
        "\n",
        "y_train = tf.keras.utils.to_categorical(y_train, num_classes)\n",
        "y_test = tf.keras.utils.to_categorical(y_test, num_classes)"
      ],
      "execution_count": 143,
      "outputs": [
        {
          "output_type": "stream",
          "text": [
            "X_train shape: (60000, 28, 28, 1)\n",
            "60000 train samples\n",
            "10000 test samples\n"
          ],
          "name": "stdout"
        }
      ]
    },
    {
      "cell_type": "code",
      "metadata": {
        "colab": {
          "base_uri": "https://localhost:8080/"
        },
        "id": "vfPivUSJyD5U",
        "outputId": "39f827ec-2abf-4de5-bc70-df6de209f44a"
      },
      "source": [
        "import tensorflow as tf\n",
        "\n",
        "try:\n",
        "    tpu = tf.distribute.cluster_resolver.TPUClusterResolver()  # TPU detection\n",
        "    print(\"Running on TPU \", tpu.cluster_spec().as_dict()[\"worker\"])\n",
        "    tf.config.experimental_connect_to_cluster(tpu)\n",
        "    tf.tpu.experimental.initialize_tpu_system(tpu)\n",
        "    strategy = tf.distribute.experimental.TPUStrategy(tpu)\n",
        "except ValueError:\n",
        "    print(\"Not connected to a TPU runtime. Using CPU/GPU strategy\")\n",
        "    strategy = tf.distribute.MirroredStrategy()"
      ],
      "execution_count": 52,
      "outputs": [
        {
          "output_type": "stream",
          "text": [
            "Not connected to a TPU runtime. Using CPU/GPU strategy\n",
            "WARNING:tensorflow:There are non-GPU devices in `tf.distribute.Strategy`, not using nccl allreduce.\n",
            "WARNING:tensorflow:Collective ops is not configured at program startup. Some performance features may not be enabled.\n",
            "INFO:tensorflow:Using MirroredStrategy with devices ('/job:localhost/replica:0/task:0/device:CPU:0',)\n"
          ],
          "name": "stdout"
        }
      ]
    },
    {
      "cell_type": "code",
      "metadata": {
        "colab": {
          "base_uri": "https://localhost:8080/"
        },
        "id": "7A13atOns-EZ",
        "outputId": "6c5b0c7f-d28f-4d43-bff8-bfac392895a9"
      },
      "source": [
        "from tf.keras import layers\n",
        "\n",
        "with strategy.scope():\n",
        "    model = tf.keras.Sequential(\n",
        "        [\n",
        "            tf.keras.Input(shape=input_shape),\n",
        "            layers.Conv2D(32, kernel_size=(3, 3), activation=\"relu\"),\n",
        "            layers.MaxPooling2D(pool_size=(2, 2)),\n",
        "            layers.Conv2D(64, kernel_size=(3, 3), activation=\"elu\"),\n",
        "            layers.MaxPooling2D(pool_size=(2, 2)),\n",
        "            layers.Flatten(),\n",
        "            layers.Dropout(0.5),\n",
        "            layers.Dense(num_classes, activation=\"softmax\"),\n",
        "        ]\n",
        "    )\n",
        "\n",
        "    model.compile(\n",
        "        optimizer=\"adam\", loss=\"categorical_crossentropy\", metrics=[\"accuracy\"]\n",
        "    )\n",
        "\n",
        "model.summary()"
      ],
      "execution_count": 160,
      "outputs": [
        {
          "output_type": "stream",
          "text": [
            "WARNING:tensorflow:Please add `keras.layers.InputLayer` instead of `keras.Input` to Sequential model. `keras.Input` is intended to be used by Functional model.\n",
            "Model: \"sequential_4\"\n",
            "_________________________________________________________________\n",
            "Layer (type)                 Output Shape              Param #   \n",
            "=================================================================\n",
            "conv2d_39 (Conv2D)           (None, 26, 26, 32)        320       \n",
            "_________________________________________________________________\n",
            "max_pooling2d_8 (MaxPooling2 (None, 13, 13, 32)        0         \n",
            "_________________________________________________________________\n",
            "conv2d_40 (Conv2D)           (None, 11, 11, 64)        18496     \n",
            "_________________________________________________________________\n",
            "max_pooling2d_9 (MaxPooling2 (None, 5, 5, 64)          0         \n",
            "_________________________________________________________________\n",
            "flatten_4 (Flatten)          (None, 1600)              0         \n",
            "_________________________________________________________________\n",
            "dropout_4 (Dropout)          (None, 1600)              0         \n",
            "_________________________________________________________________\n",
            "dense_18 (Dense)             (None, 10)                16010     \n",
            "=================================================================\n",
            "Total params: 34,826\n",
            "Trainable params: 34,826\n",
            "Non-trainable params: 0\n",
            "_________________________________________________________________\n"
          ],
          "name": "stdout"
        }
      ]
    },
    {
      "cell_type": "code",
      "metadata": {
        "colab": {
          "base_uri": "https://localhost:8080/"
        },
        "id": "7kALQ9oa4Geq",
        "outputId": "bd5ff357-f2e9-46ac-c4b6-d8aadfca46c0"
      },
      "source": [
        "batch_size = 128\n",
        "epochs = 15\n",
        "\n",
        "model.compile(loss=\"categorical_crossentropy\", optimizer=\"adam\", metrics=[\"accuracy\"])\n",
        "\n",
        "model.fit(X_train, y_train, validation_data=(X_test, y_test), batch_size=batch_size, epochs=epochs, validation_split=0.1)"
      ],
      "execution_count": 161,
      "outputs": [
        {
          "output_type": "stream",
          "text": [
            "Epoch 1/15\n",
            "422/422 [==============================] - 47s 108ms/step - loss: 0.3612 - accuracy: 0.8940 - val_loss: 0.0890 - val_accuracy: 0.9775\n",
            "Epoch 2/15\n",
            "422/422 [==============================] - 44s 105ms/step - loss: 0.1124 - accuracy: 0.9659 - val_loss: 0.0648 - val_accuracy: 0.9838\n",
            "Epoch 3/15\n",
            "422/422 [==============================] - 44s 105ms/step - loss: 0.0845 - accuracy: 0.9739 - val_loss: 0.0561 - val_accuracy: 0.9845\n",
            "Epoch 4/15\n",
            "422/422 [==============================] - 44s 105ms/step - loss: 0.0736 - accuracy: 0.9768 - val_loss: 0.0503 - val_accuracy: 0.9863\n",
            "Epoch 5/15\n",
            "422/422 [==============================] - 44s 105ms/step - loss: 0.0663 - accuracy: 0.9793 - val_loss: 0.0489 - val_accuracy: 0.9865\n",
            "Epoch 6/15\n",
            "422/422 [==============================] - 44s 104ms/step - loss: 0.0602 - accuracy: 0.9815 - val_loss: 0.0439 - val_accuracy: 0.9882\n",
            "Epoch 7/15\n",
            "422/422 [==============================] - 44s 104ms/step - loss: 0.0562 - accuracy: 0.9818 - val_loss: 0.0474 - val_accuracy: 0.9877\n",
            "Epoch 8/15\n",
            "422/422 [==============================] - 44s 104ms/step - loss: 0.0528 - accuracy: 0.9830 - val_loss: 0.0426 - val_accuracy: 0.9893\n",
            "Epoch 9/15\n",
            "422/422 [==============================] - 44s 104ms/step - loss: 0.0506 - accuracy: 0.9839 - val_loss: 0.0401 - val_accuracy: 0.9892\n",
            "Epoch 10/15\n",
            "422/422 [==============================] - 44s 104ms/step - loss: 0.0487 - accuracy: 0.9846 - val_loss: 0.0386 - val_accuracy: 0.9897\n",
            "Epoch 11/15\n",
            "422/422 [==============================] - 44s 104ms/step - loss: 0.0446 - accuracy: 0.9858 - val_loss: 0.0426 - val_accuracy: 0.9883\n",
            "Epoch 12/15\n",
            "422/422 [==============================] - 44s 104ms/step - loss: 0.0449 - accuracy: 0.9858 - val_loss: 0.0382 - val_accuracy: 0.9897\n",
            "Epoch 13/15\n",
            "422/422 [==============================] - 44s 104ms/step - loss: 0.0445 - accuracy: 0.9856 - val_loss: 0.0396 - val_accuracy: 0.9900\n",
            "Epoch 14/15\n",
            "422/422 [==============================] - 44s 104ms/step - loss: 0.0433 - accuracy: 0.9862 - val_loss: 0.0406 - val_accuracy: 0.9893\n",
            "Epoch 15/15\n",
            "422/422 [==============================] - 44s 104ms/step - loss: 0.0391 - accuracy: 0.9874 - val_loss: 0.0388 - val_accuracy: 0.9888\n"
          ],
          "name": "stdout"
        },
        {
          "output_type": "execute_result",
          "data": {
            "text/plain": [
              "<tensorflow.python.keras.callbacks.History at 0x7f907339f1d0>"
            ]
          },
          "metadata": {
            "tags": []
          },
          "execution_count": 161
        }
      ]
    },
    {
      "cell_type": "code",
      "metadata": {
        "colab": {
          "base_uri": "https://localhost:8080/"
        },
        "id": "0rzKMzOF3Rhy",
        "outputId": "1df50cff-723e-45f7-a3a5-c015c37e9574"
      },
      "source": [
        "score = model.evaluate(X_test, y_test, verbose=0)\n",
        "print(\"Test loss:\", score[0])\n",
        "print(\"Test accuracy:\", score[1])"
      ],
      "execution_count": 165,
      "outputs": [
        {
          "output_type": "stream",
          "text": [
            "Test loss: 0.02930765599012375\n",
            "Test accuracy: 0.9900000095367432\n"
          ],
          "name": "stdout"
        }
      ]
    }
  ]
}